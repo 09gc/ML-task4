{
 "cells": [
  {
   "cell_type": "code",
   "execution_count": 1,
   "id": "a7afe455",
   "metadata": {},
   "outputs": [
    {
     "name": "stdout",
     "output_type": "stream",
     "text": [
      "User Similarity Matrix:\n",
      "           User1     User2     User3     User4     User5\n",
      "User1  1.000000  0.860916  0.422890  0.368964  0.182574\n",
      "User2  0.860916  1.000000  0.420084  0.470588  0.149696\n",
      "User3  0.422890  0.420084  1.000000  0.980196  0.623610\n",
      "User4  0.368964  0.470588  0.980196  1.000000  0.598785\n",
      "User5  0.182574  0.149696  0.623610  0.598785  1.000000\n",
      "\n",
      "Users most similar to User1:\n",
      "User2    0.860916\n",
      "User3    0.422890\n",
      "User4    0.368964\n",
      "User5    0.182574\n",
      "Name: User1, dtype: float64\n"
     ]
    }
   ],
   "source": [
    "\n",
    "import pandas as pd\n",
    "from sklearn.metrics.pairwise import cosine_similarity\n",
    "\n",
    "ratings = pd.DataFrame({\n",
    "    'User1': [5, 3, 0, 1],\n",
    "    'User2': [4, 0, 0, 1],\n",
    "    'User3': [1, 1, 0, 5],\n",
    "    'User4': [1, 0, 0, 4],\n",
    "    'User5': [0, 1, 5, 4]\n",
    "}, index=['Movie1', 'Movie2', 'Movie3', 'Movie4'])\n",
    "\n",
    "user_movie_matrix = ratings.T\n",
    "\n",
    "similarity = cosine_similarity(user_movie_matrix)\n",
    "similarity_df = pd.DataFrame(similarity, index=user_movie_matrix.index, columns=user_movie_matrix.index)\n",
    "\n",
    "print(\"User Similarity Matrix:\\n\", similarity_df)\n",
    "\n",
    "user = 'User1'\n",
    "similar_users = similarity_df[user].sort_values(ascending=False)[1:]\n",
    "print(f\"\\nUsers most similar to {user}:\\n{similar_users}\")\n"
   ]
  }
 ],
 "metadata": {
  "kernelspec": {
   "display_name": "Python 3 (ipykernel)",
   "language": "python",
   "name": "python3"
  },
  "language_info": {
   "codemirror_mode": {
    "name": "ipython",
    "version": 3
   },
   "file_extension": ".py",
   "mimetype": "text/x-python",
   "name": "python",
   "nbconvert_exporter": "python",
   "pygments_lexer": "ipython3",
   "version": "3.12.7"
  }
 },
 "nbformat": 4,
 "nbformat_minor": 5
}
